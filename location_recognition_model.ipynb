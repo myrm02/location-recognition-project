{
 "cells": [
  {
   "cell_type": "code",
   "execution_count": 1,
   "id": "6b910a2b",
   "metadata": {
    "scrolled": true,
    "vscode": {
     "languageId": "plaintext"
    }
   },
   "outputs": [
    {
     "name": "stdout",
     "output_type": "stream",
     "text": [
      "Requirement already satisfied: torch in c:\\users\\myria\\anaconda3\\lib\\site-packages (2.7.1)\n",
      "Requirement already satisfied: torchvision in c:\\users\\myria\\anaconda3\\lib\\site-packages (0.22.1)\n",
      "Requirement already satisfied: torchaudio in c:\\users\\myria\\anaconda3\\lib\\site-packages (2.7.1)\n",
      "Collecting onnx\n",
      "  Downloading onnx-1.18.0-cp313-cp313-win_amd64.whl.metadata (7.0 kB)\n",
      "Collecting onnxruntime\n",
      "  Downloading onnxruntime-1.22.0-cp313-cp313-win_amd64.whl.metadata (5.0 kB)\n",
      "Requirement already satisfied: pillow in c:\\users\\myria\\anaconda3\\lib\\site-packages (11.1.0)\n",
      "Collecting fastapi\n",
      "  Downloading fastapi-0.115.14-py3-none-any.whl.metadata (27 kB)\n",
      "Collecting uvicorn\n",
      "  Downloading uvicorn-0.35.0-py3-none-any.whl.metadata (6.5 kB)\n",
      "Collecting python-multipart\n",
      "  Downloading python_multipart-0.0.20-py3-none-any.whl.metadata (1.8 kB)\n",
      "Requirement already satisfied: filelock in c:\\users\\myria\\anaconda3\\lib\\site-packages (from torch) (3.17.0)\n",
      "Requirement already satisfied: typing-extensions>=4.10.0 in c:\\users\\myria\\anaconda3\\lib\\site-packages (from torch) (4.12.2)\n",
      "Requirement already satisfied: sympy>=1.13.3 in c:\\users\\myria\\anaconda3\\lib\\site-packages (from torch) (1.13.3)\n",
      "Requirement already satisfied: networkx in c:\\users\\myria\\anaconda3\\lib\\site-packages (from torch) (3.4.2)\n",
      "Requirement already satisfied: jinja2 in c:\\users\\myria\\anaconda3\\lib\\site-packages (from torch) (3.1.6)\n",
      "Requirement already satisfied: fsspec in c:\\users\\myria\\anaconda3\\lib\\site-packages (from torch) (2025.3.2)\n",
      "Requirement already satisfied: setuptools in c:\\users\\myria\\anaconda3\\lib\\site-packages (from torch) (72.1.0)\n",
      "Requirement already satisfied: numpy in c:\\users\\myria\\anaconda3\\lib\\site-packages (from torchvision) (2.1.3)\n",
      "Requirement already satisfied: protobuf>=4.25.1 in c:\\users\\myria\\anaconda3\\lib\\site-packages (from onnx) (5.29.3)\n",
      "Collecting coloredlogs (from onnxruntime)\n",
      "  Downloading coloredlogs-15.0.1-py2.py3-none-any.whl.metadata (12 kB)\n",
      "Collecting flatbuffers (from onnxruntime)\n",
      "  Downloading flatbuffers-25.2.10-py2.py3-none-any.whl.metadata (875 bytes)\n",
      "Requirement already satisfied: packaging in c:\\users\\myria\\anaconda3\\lib\\site-packages (from onnxruntime) (24.2)\n",
      "Collecting starlette<0.47.0,>=0.40.0 (from fastapi)\n",
      "  Downloading starlette-0.46.2-py3-none-any.whl.metadata (6.2 kB)\n",
      "Requirement already satisfied: pydantic!=1.8,!=1.8.1,!=2.0.0,!=2.0.1,!=2.1.0,<3.0.0,>=1.7.4 in c:\\users\\myria\\anaconda3\\lib\\site-packages (from fastapi) (2.10.3)\n",
      "Requirement already satisfied: annotated-types>=0.6.0 in c:\\users\\myria\\anaconda3\\lib\\site-packages (from pydantic!=1.8,!=1.8.1,!=2.0.0,!=2.0.1,!=2.1.0,<3.0.0,>=1.7.4->fastapi) (0.6.0)\n",
      "Requirement already satisfied: pydantic-core==2.27.1 in c:\\users\\myria\\anaconda3\\lib\\site-packages (from pydantic!=1.8,!=1.8.1,!=2.0.0,!=2.0.1,!=2.1.0,<3.0.0,>=1.7.4->fastapi) (2.27.1)\n",
      "Requirement already satisfied: anyio<5,>=3.6.2 in c:\\users\\myria\\anaconda3\\lib\\site-packages (from starlette<0.47.0,>=0.40.0->fastapi) (4.7.0)\n",
      "Requirement already satisfied: idna>=2.8 in c:\\users\\myria\\anaconda3\\lib\\site-packages (from anyio<5,>=3.6.2->starlette<0.47.0,>=0.40.0->fastapi) (3.7)\n",
      "Requirement already satisfied: sniffio>=1.1 in c:\\users\\myria\\anaconda3\\lib\\site-packages (from anyio<5,>=3.6.2->starlette<0.47.0,>=0.40.0->fastapi) (1.3.0)\n",
      "Requirement already satisfied: click>=7.0 in c:\\users\\myria\\anaconda3\\lib\\site-packages (from uvicorn) (8.1.8)\n",
      "Requirement already satisfied: h11>=0.8 in c:\\users\\myria\\anaconda3\\lib\\site-packages (from uvicorn) (0.16.0)\n",
      "Requirement already satisfied: colorama in c:\\users\\myria\\anaconda3\\lib\\site-packages (from click>=7.0->uvicorn) (0.4.6)\n",
      "Requirement already satisfied: mpmath<1.4,>=1.1.0 in c:\\users\\myria\\anaconda3\\lib\\site-packages (from sympy>=1.13.3->torch) (1.3.0)\n",
      "Collecting humanfriendly>=9.1 (from coloredlogs->onnxruntime)\n",
      "  Downloading humanfriendly-10.0-py2.py3-none-any.whl.metadata (9.2 kB)\n",
      "Collecting pyreadline3 (from humanfriendly>=9.1->coloredlogs->onnxruntime)\n",
      "  Downloading pyreadline3-3.5.4-py3-none-any.whl.metadata (4.7 kB)\n",
      "Requirement already satisfied: MarkupSafe>=2.0 in c:\\users\\myria\\anaconda3\\lib\\site-packages (from jinja2->torch) (3.0.2)\n",
      "Downloading onnx-1.18.0-cp313-cp313-win_amd64.whl (15.9 MB)\n",
      "   ---------------------------------------- 0.0/15.9 MB ? eta -:--:--\n",
      "   ---------------- ----------------------- 6.6/15.9 MB 33.9 MB/s eta 0:00:01\n",
      "   --------------------------------- ------ 13.4/15.9 MB 33.0 MB/s eta 0:00:01\n",
      "   ---------------------------------------- 15.9/15.9 MB 31.0 MB/s eta 0:00:00\n",
      "Downloading onnxruntime-1.22.0-cp313-cp313-win_amd64.whl (12.7 MB)\n",
      "   ---------------------------------------- 0.0/12.7 MB ? eta -:--:--\n",
      "   ----------------------- ---------------- 7.3/12.7 MB 36.4 MB/s eta 0:00:01\n",
      "   ---------------------------------------- 12.7/12.7 MB 31.9 MB/s eta 0:00:00\n",
      "Downloading fastapi-0.115.14-py3-none-any.whl (95 kB)\n",
      "Downloading starlette-0.46.2-py3-none-any.whl (72 kB)\n",
      "Downloading uvicorn-0.35.0-py3-none-any.whl (66 kB)\n",
      "Downloading python_multipart-0.0.20-py3-none-any.whl (24 kB)\n",
      "Downloading coloredlogs-15.0.1-py2.py3-none-any.whl (46 kB)\n",
      "Downloading humanfriendly-10.0-py2.py3-none-any.whl (86 kB)\n",
      "Downloading flatbuffers-25.2.10-py2.py3-none-any.whl (30 kB)\n",
      "Downloading pyreadline3-3.5.4-py3-none-any.whl (83 kB)\n",
      "Installing collected packages: flatbuffers, python-multipart, pyreadline3, onnx, uvicorn, starlette, humanfriendly, fastapi, coloredlogs, onnxruntime\n",
      "\n",
      "   -------- -------------------------------  2/10 [pyreadline3]\n",
      "   ------------ ---------------------------  3/10 [onnx]\n",
      "   ------------ ---------------------------  3/10 [onnx]\n",
      "   ------------ ---------------------------  3/10 [onnx]\n",
      "   ------------ ---------------------------  3/10 [onnx]\n",
      "   ------------ ---------------------------  3/10 [onnx]\n",
      "   ------------ ---------------------------  3/10 [onnx]\n",
      "   ------------ ---------------------------  3/10 [onnx]\n",
      "   ------------ ---------------------------  3/10 [onnx]\n",
      "   ------------ ---------------------------  3/10 [onnx]\n",
      "   ------------ ---------------------------  3/10 [onnx]\n",
      "   ------------ ---------------------------  3/10 [onnx]\n",
      "   ------------ ---------------------------  3/10 [onnx]\n",
      "   ------------ ---------------------------  3/10 [onnx]\n",
      "   ------------ ---------------------------  3/10 [onnx]\n",
      "   ------------ ---------------------------  3/10 [onnx]\n",
      "   ------------ ---------------------------  3/10 [onnx]\n",
      "   ------------ ---------------------------  3/10 [onnx]\n",
      "   ------------ ---------------------------  3/10 [onnx]\n",
      "   ------------ ---------------------------  3/10 [onnx]\n",
      "   ------------ ---------------------------  3/10 [onnx]\n",
      "   ------------ ---------------------------  3/10 [onnx]\n",
      "   ------------ ---------------------------  3/10 [onnx]\n",
      "   ------------ ---------------------------  3/10 [onnx]\n",
      "   ------------ ---------------------------  3/10 [onnx]\n",
      "   ------------ ---------------------------  3/10 [onnx]\n",
      "   ------------ ---------------------------  3/10 [onnx]\n",
      "   ------------ ---------------------------  3/10 [onnx]\n",
      "   ------------ ---------------------------  3/10 [onnx]\n",
      "   ------------ ---------------------------  3/10 [onnx]\n",
      "   ------------ ---------------------------  3/10 [onnx]\n",
      "   ------------ ---------------------------  3/10 [onnx]\n",
      "   ------------ ---------------------------  3/10 [onnx]\n",
      "   ------------ ---------------------------  3/10 [onnx]\n",
      "   ------------ ---------------------------  3/10 [onnx]\n",
      "   ------------ ---------------------------  3/10 [onnx]\n",
      "   ------------ ---------------------------  3/10 [onnx]\n",
      "   ------------ ---------------------------  3/10 [onnx]\n",
      "   ------------ ---------------------------  3/10 [onnx]\n",
      "   ------------ ---------------------------  3/10 [onnx]\n",
      "   ------------ ---------------------------  3/10 [onnx]\n",
      "   ---------------- -----------------------  4/10 [uvicorn]\n",
      "   ------------------------ ---------------  6/10 [humanfriendly]\n",
      "   ---------------------------- -----------  7/10 [fastapi]\n",
      "   ------------------------------------ ---  9/10 [onnxruntime]\n",
      "   ------------------------------------ ---  9/10 [onnxruntime]\n",
      "   ------------------------------------ ---  9/10 [onnxruntime]\n",
      "   ------------------------------------ ---  9/10 [onnxruntime]\n",
      "   ------------------------------------ ---  9/10 [onnxruntime]\n",
      "   ------------------------------------ ---  9/10 [onnxruntime]\n",
      "   ------------------------------------ ---  9/10 [onnxruntime]\n",
      "   ------------------------------------ ---  9/10 [onnxruntime]\n",
      "   ---------------------------------------- 10/10 [onnxruntime]\n",
      "\n",
      "Successfully installed coloredlogs-15.0.1 fastapi-0.115.14 flatbuffers-25.2.10 humanfriendly-10.0 onnx-1.18.0 onnxruntime-1.22.0 pyreadline3-3.5.4 python-multipart-0.0.20 starlette-0.46.2 uvicorn-0.35.0\n"
     ]
    }
   ],
   "source": [
    "!pip3 install torch torchvision torchaudio onnx onnxruntime pillow fastapi uvicorn python-multipart"
   ]
  },
  {
   "cell_type": "code",
   "execution_count": 2,
   "id": "235f3e5c",
   "metadata": {
    "vscode": {
     "languageId": "plaintext"
    }
   },
   "outputs": [],
   "source": [
    "import torch\n",
    "import torch.nn as nn\n",
    "import torch.nn.functional as F\n",
    "import torch.optim as optim\n",
    "import torchvision\n",
    "from torchvision import datasets\n",
    "from torch.utils.data import Dataset, DataLoader\n",
    "import torchvision.utils as TUtils\n",
    "import torchvision.transforms as T\n",
    "import torchvision.models as models\n",
    "import numpy as np\n",
    "import matplotlib.pyplot as plt\n",
    "from PIL import Image\n",
    "import glob\n",
    "import pathlib\n",
    "import onnxruntime as ort\n",
    "import io\n",
    "from fastapi import FastAPI, UploadFile, File\n",
    "from fastapi.responses import JSONResponse\n",
    "import nest_asyncio\n",
    "import uvicorn"
   ]
  },
  {
   "cell_type": "code",
   "execution_count": 13,
   "id": "306da478-cb80-4ba8-9547-ad38a39df222",
   "metadata": {},
   "outputs": [],
   "source": [
    "device = torch.accelerator.current_acceleartor() if torch.accelerator.is_available() else \"cpu\""
   ]
  },
  {
   "cell_type": "code",
   "execution_count": 94,
   "id": "4aaba50d",
   "metadata": {
    "scrolled": true,
    "vscode": {
     "languageId": "plaintext"
    }
   },
   "outputs": [],
   "source": [
    "data_transforms = T.Compose([\n",
    "    T.Resize((32, 32)),  # Resize images to fit the network\n",
    "    T.ToTensor(),\n",
    "    T.Normalize((0.5, 0.5, 0.5), (0.5, 0.5, 0.5))\n",
    "])\n",
    "\n",
    "batch_size = 4\n",
    "\n",
    "trainset = datasets.ImageFolder(root='data/train', transform=transform)\n",
    "\n",
    "trainloader = DataLoader(trainset, batch_size=batch_size,\n",
    "                        shuffle=True, num_workers=0)\n",
    "\n",
    "testset = datasets.ImageFolder(root='data/test', transform=transform)\n",
    "\n",
    "testloader = DataLoader(testset, batch_size=batch_size,\n",
    "                       shuffle=False, num_workers=0)\n",
    "\n",
    "# Redefine classes as locations instead of objects\n",
    "#location_classes = (\n",
    "    #'New York', 'Paris', 'Tokyo', 'London',\n",
    "    #'Sydney', 'Dubai', 'Rio', 'Cape Town', 'Venice', 'Hong Kong'\n",
    "#)\n",
    "location_classes = trainset.classes"
   ]
  },
  {
   "cell_type": "code",
   "execution_count": 101,
   "id": "1dd635fc-b2cb-4e45-997a-11852d545e2f",
   "metadata": {},
   "outputs": [],
   "source": [
    "class LocationNetwork(nn.Module):\n",
    "    def __init__(self, num_classes):\n",
    "        super(LocationNetwork, self).__init__()\n",
    "        # Convolutional layers\n",
    "        self.conv1 = nn.Conv2d(3, 16, kernel_size=3, padding=1)  # Input: 3 channels (RGB)\n",
    "        self.relu1 = nn.ReLU()\n",
    "        self.pool1 = nn.MaxPool2d(kernel_size=2, stride=2)\n",
    "        \n",
    "        self.conv2 = nn.Conv2d(16, 32, kernel_size=3, padding=1)\n",
    "        self.relu2 = nn.ReLU()\n",
    "        self.pool2 = nn.MaxPool2d(kernel_size=2, stride=2)\n",
    "        \n",
    "        # Add a print statement in forward() to check dimensions before flattening\n",
    "        \n",
    "        # Calculate the correct input size for the first fully connected layer\n",
    "        # If your input images are 128x128x3, after two 2x2 max pooling layers:\n",
    "        # 128 -> 64 -> 32\n",
    "        # So feature map size would be 32x32 with 32 channels: 32*32*32 = 32768\n",
    "        self.fc1 = nn.Linear(32 * 32 * 32, 512)  # Adjust these numbers based on your input size\n",
    "        self.relu3 = nn.ReLU()\n",
    "        self.fc2 = nn.Linear(512, num_classes)\n",
    "        \n",
    "    def forward(self, x):\n",
    "        # Print input shape for debugging\n",
    "        \n",
    "        # Apply convolution layers\n",
    "        x = self.pool1(self.relu1(self.conv1(x)))\n",
    "        \n",
    "        x = self.pool2(self.relu2(self.conv2(x)))\n",
    "        \n",
    "        # Flatten the output for the fully connected layer\n",
    "        # Store the batch size\n",
    "        batch_size = x.size(0)\n",
    "        \n",
    "        # Calculate the feature dimensions\n",
    "        feature_size = x.size(1) * x.size(2) * x.size(3)\n",
    "        print(f\"Feature size before flattening: {feature_size}\")\n",
    "        \n",
    "        # Dynamically reshape based on the actual dimensions\n",
    "        x = x.view(batch_size, -1)\n",
    "        print(f\"After flattening: {x.shape}\")\n",
    "        \n",
    "        # Adjust the first fully connected layer dynamically\n",
    "        if not hasattr(self, 'fc1') or self.fc1.in_features != x.size(1):\n",
    "            self.fc1 = nn.Linear(x.size(1), 512).to(x.device)\n",
    "            print(f\"Adjusted fc1 input features to: {x.size(1)}\")\n",
    "        \n",
    "        # Apply fully connected layers\n",
    "        x = self.relu3(self.fc1(x))\n",
    "        x = self.fc2(x)\n",
    "        \n",
    "        return x"
   ]
  },
  {
   "cell_type": "code",
   "execution_count": 102,
   "id": "6dbb5487",
   "metadata": {
    "vscode": {
     "languageId": "plaintext"
    }
   },
   "outputs": [],
   "source": [
    "locationNN = LocationNetwork(len(trainset.classes)).to(device)\n",
    "criterion = nn.CrossEntropyLoss().to(device)\n",
    "optimizer = optim.SGD(LocationNN.parameters(), lr=0.009, momentum=0.9)"
   ]
  },
  {
   "cell_type": "code",
   "execution_count": 103,
   "id": "856a8bbd",
   "metadata": {
    "vscode": {
     "languageId": "plaintext"
    }
   },
   "outputs": [],
   "source": [
    "def train(train_loader: DataLoader, model: nn.Module, criterion: nn.Module, optimizer: torch.optim):\n",
    "    for X, y in train_loader:\n",
    "        X, y = X.to(device), y.to(device)\n",
    "        y_pred = model(X)\n",
    "        loss = criterion(y_pred, y)\n",
    "        \n",
    "        loss.backward()\n",
    "        optimizer.step()\n",
    "        optimizer.zero_grad()"
   ]
  },
  {
   "cell_type": "code",
   "execution_count": 107,
   "id": "64618c40",
   "metadata": {
    "vscode": {
     "languageId": "plaintext"
    }
   },
   "outputs": [
    {
     "name": "stdout",
     "output_type": "stream",
     "text": [
      "Finished Training\n"
     ]
    }
   ],
   "source": [
    "for epoch in range(2):  # loop over the dataset multiple times\n",
    "\n",
    "    running_loss = 0.0\n",
    "    for i, data in enumerate(trainloader, 0):\n",
    "        # get the inputs; data is a list of [inputs, labels]\n",
    "        inputs, labels = data\n",
    "\n",
    "        # zero the parameter gradients\n",
    "        optimizer.zero_grad()\n",
    "\n",
    "        # forward + backward + optimize\n",
    "        outputs = locationNN(inputs)\n",
    "        loss = criterion(outputs, labels)\n",
    "        loss.backward()\n",
    "        optimizer.step()\n",
    "\n",
    "        # print statistics\n",
    "        running_loss += loss.item()\n",
    "        if i % 2000 == 1999:    # print every 2000 mini-batches\n",
    "            print(f'[{epoch + 1}, {i + 1:5d}] loss: {running_loss / 2000:.3f}')\n",
    "            running_loss = 0.0\n",
    "\n",
    "print('Finished Training')"
   ]
  },
  {
   "cell_type": "code",
   "execution_count": 111,
   "id": "d1de8ba0-79d5-475e-ab1a-b6017521c246",
   "metadata": {},
   "outputs": [
    {
     "name": "stdout",
     "output_type": "stream",
     "text": [
      "Predicted:  campagne campagne campagne campagne\n"
     ]
    }
   ],
   "source": [
    "dataiter = iter(testloader)\n",
    "images, labels = next(dataiter)\n",
    "\n",
    "outputs = locationNN(images)\n",
    "_, predicted = torch.max(outputs, 1)\n",
    "\n",
    "print('Predicted: ', ' '.join(f'{location_classes[predicted[j]]:5s}'\n",
    "                              for j in range(4)))"
   ]
  },
  {
   "cell_type": "code",
   "execution_count": 113,
   "id": "91446791-9504-4b65-a215-d4b55c6caef1",
   "metadata": {},
   "outputs": [
    {
     "data": {
      "image/png": "[encoded data removed]",
      "text/plain": [
       "<Figure size 640x480 with 1 Axes>"
      ]
     },
     "metadata": {},
     "output_type": "display_data"
    },
    {
     "name": "stdout",
     "output_type": "stream",
     "text": [
      "plage plage campagne montagne\n"
     ]
    }
   ],
   "source": [
    "def imshow(img):\n",
    "    img = img / 2 + 0.5     # unnormalize\n",
    "    npimg = img.numpy()\n",
    "    plt.imshow(np.transpose(npimg, (1, 2, 0)))\n",
    "    plt.show()\n",
    "\n",
    "\n",
    "# get some random training images\n",
    "dataiter = iter(trainloader)\n",
    "images, labels = next(dataiter)\n",
    "\n",
    "# show images\n",
    "imshow(torchvision.utils.make_grid(images))\n",
    "# print labels\n",
    "print(' '.join(f'{location_classes[labels[j]]:5s}' for j in range(batch_size)))"
   ]
  },
  {
   "cell_type": "code",
   "execution_count": 114,
   "id": "cf0e7eb7",
   "metadata": {
    "vscode": {
     "languageId": "plaintext"
    }
   },
   "outputs": [],
   "source": [
    "def test(dataloader, model, loss_fn):\n",
    "    size = len(dataloader.dataset)\n",
    "    num_batches = len(dataloader)\n",
    "    model.eval()\n",
    "    test_loss, correct = 0, 0\n",
    "    with torch.no_grad():\n",
    "        for X, y in dataloader:\n",
    "            X, y = X.to(device), y.to(device)\n",
    "            pred = model(X)\n",
    "            test_loss += loss_fn(pred, y).item()\n",
    "            correct += (pred.argmax(1) == y).type(torch.float).sum().item()\n",
    "    test_loss /= num_batches\n",
    "    correct /= size\n",
    "    return test_loss, correct\n",
    "    print(f\"Test Error: \\n Accuracy: {(100*correct):>0.1f}%, Avg loss: {test_loss:>8f} \\n\")"
   ]
  },
  {
   "cell_type": "code",
   "execution_count": 119,
   "id": "b45bcc44",
   "metadata": {
    "scrolled": true,
    "vscode": {
     "languageId": "plaintext"
    }
   },
   "outputs": [
    {
     "name": "stdout",
     "output_type": "stream",
     "text": [
      "Test Done!\n"
     ]
    },
    {
     "data": {
      "image/png": "[encoded data removed]",
      "text/plain": [
       "<Figure size 800x500 with 1 Axes>"
      ]
     },
     "metadata": {},
     "output_type": "display_data"
    },
    {
     "data": {
      "image/png": "[encoded data removed]",
      "text/plain": [
       "<Figure size 800x500 with 1 Axes>"
      ]
     },
     "metadata": {},
     "output_type": "display_data"
    },
    {
     "name": "stdout",
     "output_type": "stream",
     "text": [
      "Accuracy for class: campagne is 100.0 %\n",
      "Accuracy for class: foret is 0.0 %\n",
      "Accuracy for class: montagne is 0.0 %\n",
      "Accuracy for class: plage is 0.0 %\n",
      "Accuracy for class: ville is 0.0 %\n"
     ]
    }
   ],
   "source": [
    "epochs = 10\n",
    "test_losses = []\n",
    "test_accuracies = []\n",
    "\n",
    "for t in range(epochs):\n",
    "    test_losses.append(test(testloader, locationNN, criterion)[0])\n",
    "    test_accuracies.append(test(testloader, locationNN, criterion)[1])\n",
    "print(\"Test Done!\")\n",
    "\n",
    "# Plot loss per epoch\n",
    "plt.figure(figsize=(8, 5))\n",
    "plt.plot(range(1, epochs+1), test_losses, label='Average Loss', marker='o')\n",
    "plt.xlabel('Epoch')\n",
    "plt.ylabel('Loss')\n",
    "plt.title('Test Loss per Epoch')\n",
    "plt.legend()\n",
    "plt.xticks(range(1, epochs+1))\n",
    "plt.show()\n",
    "\n",
    "# Plot accuracy per epoch\n",
    "plt.figure(figsize=(8, 5))\n",
    "plt.plot(range(1, epochs+1), test_accuracies, label='Accuracy', marker='s')\n",
    "plt.xlabel('Epoch')\n",
    "plt.ylabel('Accuracy')\n",
    "plt.title('Test Accuracy per Epoch')\n",
    "plt.legend()\n",
    "plt.xticks(range(1, epochs+1))\n",
    "plt.show()\n",
    "\n",
    "# prepare to count predictions for each class\n",
    "correct_pred = {classname: 0 for classname in location_classes}\n",
    "total_pred = {classname: 0 for classname in location_classes}\n",
    "\n",
    "# again no gradients needed\n",
    "with torch.no_grad():\n",
    "    for data in testloader:\n",
    "        images, labels = data\n",
    "        outputs = locationNN(images)\n",
    "        _, predictions = torch.max(outputs, 1)\n",
    "        # collect the correct predictions for each class\n",
    "        for label, prediction in zip(labels, predictions):\n",
    "            if label == prediction:\n",
    "                correct_pred[location_classes[label]] += 1\n",
    "            total_pred[location_classes[label]] += 1\n",
    "\n",
    "\n",
    "# print accuracy for each class\n",
    "for classname, correct_count in correct_pred.items():\n",
    "    accuracy = 100 * float(correct_count) / total_pred[classname]\n",
    "    print(f'Accuracy for class: {classname:5s} is {accuracy:.1f} %')"
   ]
  },
  {
   "cell_type": "code",
   "execution_count": 121,
   "id": "bb450de6-8529-4459-853a-af8d67cb1d2d",
   "metadata": {},
   "outputs": [
    {
     "name": "stdout",
     "output_type": "stream",
     "text": [
      "Saved PyTorch Model State to model.pth\n"
     ]
    }
   ],
   "source": [
    "PATH = './model/location_recognition.pth'\n",
    "torch.save(locationNN.state_dict(), PATH)\n",
    "print(\"Saved PyTorch Model State to model.pth\")"
   ]
  },
  {
   "cell_type": "code",
   "execution_count": null,
   "id": "fb07a26c",
   "metadata": {
    "vscode": {
     "languageId": "plaintext"
    }
   },
   "outputs": [],
   "source": [
    "model = LocationNetwork(len(trainset.classes), input_size=32)\n",
    "model.load_state_dict(torch.load(\"model/location_recognition.pth\"))\n",
    "\n",
    "# Exemple d'entrée factice avec les bonnes dimensions [batch_size, channels, height, width]\n",
    "dummy_input = torch.randn(1, 3, 32, 32)\n",
    "\n",
    "# Export du modèle vers ONNX\n",
    "torch.onnx.export(\n",
    "    model,\n",
    "    dummy_input,\n",
    "    \"location_recognition.onnx\",\n",
    "    input_names=[\"input\"],\n",
    "    output_names=[\"output\"],\n",
    "    opset_version=11,\n",
    "    do_constant_folding=True,\n",
    "    dynamic_axes={\n",
    "        'input': {0: 'batch_size'},\n",
    "        'output': {0: 'batch_size'}\n",
    "    }\n",
    ")\n",
    "\n",
    "print(\"✅ Modèle exporté avec succès en location_recognition.onnx\")"
   ]
  },
  {
   "cell_type": "code",
   "execution_count": null,
   "id": "906e4aaa",
   "metadata": {
    "vscode": {
     "languageId": "plaintext"
    }
   },
   "outputs": [],
   "source": [
    "session = ort.InferenceSession(\"location_recognition.onnx\")\n",
    "input_name = session.get_inputs()[0].name\n",
    "\n",
    "def preprocess(image: Image.Image) -> np.ndarray:\n",
    "    image = image.resize((32, 32))  \n",
    "    image = np.array(image).astype(np.float32) / 255.0\n",
    "\n",
    "    if image.ndim == 2:\n",
    "        image = np.stack([image] * 3, axis=-1) \n",
    "\n",
    "    image = image.transpose(2, 0, 1) \n",
    "\n",
    "    mean = np.array([0.5, 0.5, 0.5]).reshape(3, 1, 1)\n",
    "    std = np.array([0.5, 0.5, 0.5]).reshape(3, 1, 1)\n",
    "    image = (image - mean) / std\n",
    "\n",
    "    image = np.expand_dims(image, axis=0)\n",
    "    return image\n",
    "\n",
    "app = FastAPI()\n",
    "\n",
    "@app.post(\"/predict\")\n",
    "async def predict(file: UploadFile = File(...)):\n",
    "    try:\n",
    "        content = await file.read()\n",
    "        image = Image.open(io.BytesIO(content)).convert(\"RGB\")\n",
    "        input_tensor = preprocess(image)\n",
    "\n",
    "        outputs = session.run(None, {input_name: input_tensor})\n",
    "        prediction = np.argmax(outputs[0])\n",
    "        predicted_label = class_names[prediction] if prediction < len(class_names) else \"Inconnu\"\n",
    "\n",
    "        return JSONResponse(content={\"prediction\": predicted_label})\n",
    "    except Exception as e:\n",
    "        return JSONResponse(status_code=500, content={\"error\": str(e)})\n",
    "\n",
    "nest_asyncio.apply()\n",
    "uvicorn.run(app, host=\"0.0.0.0\", port=8000)\n",
    "\n",
    "#Test du modèle côté back\n",
    "image = Image.open(\"miami.PNG\").convert(\"RGB\")\n",
    "input_tensor = preprocess(image)\n",
    "output = session.run(None, {input_name: input_tensor})\n",
    "print(\"Prédiction :\", class_names[np.argmax(output[0])])"
   ]
  }
 ],
 "metadata": {
  "kernelspec": {
   "display_name": "Python [conda env:base] *",
   "language": "python",
   "name": "conda-base-py"
  },
  "language_info": {
   "codemirror_mode": {
    "name": "ipython",
    "version": 3
   },
   "file_extension": ".py",
   "mimetype": "text/x-python",
   "name": "python",
   "nbconvert_exporter": "python",
   "pygments_lexer": "ipython3",
   "version": "3.13.5"
  }
 },
 "nbformat": 4,
 "nbformat_minor": 5
}
